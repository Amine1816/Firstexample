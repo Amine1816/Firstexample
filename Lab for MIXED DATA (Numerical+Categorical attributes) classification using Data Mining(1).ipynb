{
 "cells": [
  {
   "cell_type": "markdown",
   "metadata": {},
   "source": [
    "# Classification supervisée des données mixées  numériques + catégoritques\n",
    "Dans ce lab, nous allons voir comment réaliser la tàche de la classification supervisée en utilisant Python + Jupyter Notebook avec les librairies sklearn et keras.\n"
   ]
  },
  {
   "cell_type": "markdown",
   "metadata": {},
   "source": [
    "## 1. importation des librairies\n",
    "Avec Pandas on peut manipuler lire et écrire nos jeux de données, généralement avec une extension .csv\n",
    "\n"
   ]
  },
  {
   "cell_type": "code",
   "execution_count": 16,
   "metadata": {},
   "outputs": [],
   "source": [
    "import pandas as pd   # lire et manipuler les IO .csv\n",
    "#import numpy as np   \n",
    "#import matplotlib \n",
    "#import matplotlib.pyplot as plt\n",
    "#import seaborn as sns\n",
    "#from sklearn.model_selection import train_test_split #découper l'ensemble de train et de test de maniere aléatoire\n",
    "import math"
   ]
  },
  {
   "cell_type": "markdown",
   "metadata": {},
   "source": [
    "# 2. Importation des données\n",
    "Avec la fonction read_csv de Pandas: on peut mettre dans notre dataframe le contenu du fichier csv, en indiquant comme paramètre (1: le chemin ou la source où se trouve le fichier csv, 2: les séparateurs entre les valeurs dans notre cas ces des vergules) en troisième position, un paramètre facultatif pour spécifier le type d'encodage de notre fichier exemple encoding =\"UTF8\"."
   ]
  },
  {
   "cell_type": "code",
   "execution_count": 17,
   "metadata": {},
   "outputs": [
    {
     "data": {
      "text/html": [
       "<div>\n",
       "<style scoped>\n",
       "    .dataframe tbody tr th:only-of-type {\n",
       "        vertical-align: middle;\n",
       "    }\n",
       "\n",
       "    .dataframe tbody tr th {\n",
       "        vertical-align: top;\n",
       "    }\n",
       "\n",
       "    .dataframe thead th {\n",
       "        text-align: right;\n",
       "    }\n",
       "</style>\n",
       "<table border=\"1\" class=\"dataframe\">\n",
       "  <thead>\n",
       "    <tr style=\"text-align: right;\">\n",
       "      <th></th>\n",
       "      <th>Unnamed: 0</th>\n",
       "      <th>client_id</th>\n",
       "      <th>Genre</th>\n",
       "      <th>Age</th>\n",
       "      <th>birth_number</th>\n",
       "      <th>district_id</th>\n",
       "      <th>disp_id</th>\n",
       "      <th>account_id</th>\n",
       "      <th>type_client_disp</th>\n",
       "      <th>card_id</th>\n",
       "      <th>...</th>\n",
       "      <th>nb_mun_hab_2000_9999</th>\n",
       "      <th>nb_mun_hab_10000</th>\n",
       "      <th>nb_villes</th>\n",
       "      <th>ratio_hab_urbain</th>\n",
       "      <th>salaire_moyen</th>\n",
       "      <th>chomage_1995</th>\n",
       "      <th>chomage_1996</th>\n",
       "      <th>nb_entrepreneurs_pour_1000_hab</th>\n",
       "      <th>nb_crimes_1995</th>\n",
       "      <th>nb_crimes_1996</th>\n",
       "    </tr>\n",
       "  </thead>\n",
       "  <tbody>\n",
       "    <tr>\n",
       "      <th>0</th>\n",
       "      <td>0</td>\n",
       "      <td>1</td>\n",
       "      <td>Femme</td>\n",
       "      <td>26</td>\n",
       "      <td>706213</td>\n",
       "      <td>18</td>\n",
       "      <td>1</td>\n",
       "      <td>1</td>\n",
       "      <td>PROPRIETAIRE</td>\n",
       "      <td>-1.0</td>\n",
       "      <td>...</td>\n",
       "      <td>2</td>\n",
       "      <td>1</td>\n",
       "      <td>4</td>\n",
       "      <td>65.3</td>\n",
       "      <td>8968</td>\n",
       "      <td>2.83</td>\n",
       "      <td>3.35</td>\n",
       "      <td>131</td>\n",
       "      <td>1740</td>\n",
       "      <td>1910</td>\n",
       "    </tr>\n",
       "    <tr>\n",
       "      <th>1</th>\n",
       "      <td>1</td>\n",
       "      <td>2</td>\n",
       "      <td>Homme</td>\n",
       "      <td>51</td>\n",
       "      <td>450204</td>\n",
       "      <td>1</td>\n",
       "      <td>2</td>\n",
       "      <td>2</td>\n",
       "      <td>PROPRIETAIRE</td>\n",
       "      <td>-1.0</td>\n",
       "      <td>...</td>\n",
       "      <td>0</td>\n",
       "      <td>1</td>\n",
       "      <td>1</td>\n",
       "      <td>100.0</td>\n",
       "      <td>12541</td>\n",
       "      <td>0.29</td>\n",
       "      <td>0.43</td>\n",
       "      <td>167</td>\n",
       "      <td>85677</td>\n",
       "      <td>99107</td>\n",
       "    </tr>\n",
       "    <tr>\n",
       "      <th>2</th>\n",
       "      <td>2</td>\n",
       "      <td>3</td>\n",
       "      <td>Femme</td>\n",
       "      <td>56</td>\n",
       "      <td>406009</td>\n",
       "      <td>1</td>\n",
       "      <td>3</td>\n",
       "      <td>2</td>\n",
       "      <td>UTILISATEUR</td>\n",
       "      <td>-1.0</td>\n",
       "      <td>...</td>\n",
       "      <td>0</td>\n",
       "      <td>1</td>\n",
       "      <td>1</td>\n",
       "      <td>100.0</td>\n",
       "      <td>12541</td>\n",
       "      <td>0.29</td>\n",
       "      <td>0.43</td>\n",
       "      <td>167</td>\n",
       "      <td>85677</td>\n",
       "      <td>99107</td>\n",
       "    </tr>\n",
       "    <tr>\n",
       "      <th>3</th>\n",
       "      <td>3</td>\n",
       "      <td>4</td>\n",
       "      <td>Homme</td>\n",
       "      <td>40</td>\n",
       "      <td>561201</td>\n",
       "      <td>5</td>\n",
       "      <td>4</td>\n",
       "      <td>3</td>\n",
       "      <td>PROPRIETAIRE</td>\n",
       "      <td>-1.0</td>\n",
       "      <td>...</td>\n",
       "      <td>4</td>\n",
       "      <td>1</td>\n",
       "      <td>6</td>\n",
       "      <td>51.4</td>\n",
       "      <td>9307</td>\n",
       "      <td>3.85</td>\n",
       "      <td>4.43</td>\n",
       "      <td>118</td>\n",
       "      <td>2616</td>\n",
       "      <td>3040</td>\n",
       "    </tr>\n",
       "    <tr>\n",
       "      <th>4</th>\n",
       "      <td>4</td>\n",
       "      <td>5</td>\n",
       "      <td>Femme</td>\n",
       "      <td>36</td>\n",
       "      <td>605703</td>\n",
       "      <td>5</td>\n",
       "      <td>5</td>\n",
       "      <td>3</td>\n",
       "      <td>UTILISATEUR</td>\n",
       "      <td>-1.0</td>\n",
       "      <td>...</td>\n",
       "      <td>4</td>\n",
       "      <td>1</td>\n",
       "      <td>6</td>\n",
       "      <td>51.4</td>\n",
       "      <td>9307</td>\n",
       "      <td>3.85</td>\n",
       "      <td>4.43</td>\n",
       "      <td>118</td>\n",
       "      <td>2616</td>\n",
       "      <td>3040</td>\n",
       "    </tr>\n",
       "  </tbody>\n",
       "</table>\n",
       "<p>5 rows × 36 columns</p>\n",
       "</div>"
      ],
      "text/plain": [
       "   Unnamed: 0  client_id  Genre  Age  birth_number  district_id  disp_id  \\\n",
       "0           0          1  Femme   26        706213           18        1   \n",
       "1           1          2  Homme   51        450204            1        2   \n",
       "2           2          3  Femme   56        406009            1        3   \n",
       "3           3          4  Homme   40        561201            5        4   \n",
       "4           4          5  Femme   36        605703            5        5   \n",
       "\n",
       "   account_id type_client_disp  card_id       ...       nb_mun_hab_2000_9999  \\\n",
       "0           1     PROPRIETAIRE     -1.0       ...                          2   \n",
       "1           2     PROPRIETAIRE     -1.0       ...                          0   \n",
       "2           2      UTILISATEUR     -1.0       ...                          0   \n",
       "3           3     PROPRIETAIRE     -1.0       ...                          4   \n",
       "4           3      UTILISATEUR     -1.0       ...                          4   \n",
       "\n",
       "  nb_mun_hab_10000  nb_villes ratio_hab_urbain  salaire_moyen  chomage_1995  \\\n",
       "0                1          4             65.3           8968          2.83   \n",
       "1                1          1            100.0          12541          0.29   \n",
       "2                1          1            100.0          12541          0.29   \n",
       "3                1          6             51.4           9307          3.85   \n",
       "4                1          6             51.4           9307          3.85   \n",
       "\n",
       "   chomage_1996  nb_entrepreneurs_pour_1000_hab  nb_crimes_1995  \\\n",
       "0          3.35                             131            1740   \n",
       "1          0.43                             167           85677   \n",
       "2          0.43                             167           85677   \n",
       "3          4.43                             118            2616   \n",
       "4          4.43                             118            2616   \n",
       "\n",
       "   nb_crimes_1996  \n",
       "0            1910  \n",
       "1           99107  \n",
       "2           99107  \n",
       "3            3040  \n",
       "4            3040  \n",
       "\n",
       "[5 rows x 36 columns]"
      ]
     },
     "execution_count": 17,
     "metadata": {},
     "output_type": "execute_result"
    }
   ],
   "source": [
    "df=pd.read_csv('/home/notebooks/Amine/Bank DataSets Experimentations/base_unique.csv', sep=';')#lire le fichier csv \n",
    "df.head()  # afficher les 5 premieres lignes"
   ]
  },
  {
   "cell_type": "markdown",
   "metadata": {},
   "source": [
    "## 3. Statistiques descriptives élémentaires\n",
    "\n",
    "Lire les informations sur nos données (Types d'attributs, valeurs manquantes...)\n",
    "Pandas nous permet de voir les informations sur notre benchmark\n",
    "exemple: avec dataframe.info() il nous affiche tout les attributs de notre fichier avec le type de donnée et le nombre de valeurs de chaque colonne\n",
    "\n",
    "dataframe.columns permet de citer les noms de toutes les colonnes"
   ]
  },
  {
   "cell_type": "code",
   "execution_count": 18,
   "metadata": {},
   "outputs": [
    {
     "name": "stdout",
     "output_type": "stream",
     "text": [
      "<class 'pandas.core.frame.DataFrame'>\n",
      "RangeIndex: 5369 entries, 0 to 5368\n",
      "Data columns (total 36 columns):\n",
      "Unnamed: 0                        5369 non-null int64\n",
      "client_id                         5369 non-null int64\n",
      "Genre                             5369 non-null object\n",
      "Age                               5369 non-null int64\n",
      "birth_number                      5369 non-null int64\n",
      "district_id                       5369 non-null int64\n",
      "disp_id                           5369 non-null int64\n",
      "account_id                        5369 non-null int64\n",
      "type_client_disp                  5369 non-null object\n",
      "card_id                           5369 non-null float64\n",
      "type_card                         5369 non-null object\n",
      "issued                            5369 non-null object\n",
      "district_id_account               5369 non-null int64\n",
      "frequency                         5369 non-null object\n",
      "date                              5369 non-null int64\n",
      "loan_id                           5369 non-null float64\n",
      "date_loan                         5369 non-null float64\n",
      "amount                            5369 non-null float64\n",
      "duration                          5369 non-null float64\n",
      "payments                          5369 non-null float64\n",
      "status                            5369 non-null object\n",
      "district_name                     5369 non-null object\n",
      "district_region                   5369 non-null object\n",
      "nb_habitants                      5369 non-null int64\n",
      "nb_mun_hab_499                    5369 non-null int64\n",
      "nb_mun_hab_500_1999               5369 non-null int64\n",
      "nb_mun_hab_2000_9999              5369 non-null int64\n",
      "nb_mun_hab_10000                  5369 non-null int64\n",
      "nb_villes                         5369 non-null int64\n",
      "ratio_hab_urbain                  5369 non-null float64\n",
      "salaire_moyen                     5369 non-null int64\n",
      "chomage_1995                      5369 non-null object\n",
      "chomage_1996                      5369 non-null float64\n",
      "nb_entrepreneurs_pour_1000_hab    5369 non-null int64\n",
      "nb_crimes_1995                    5369 non-null object\n",
      "nb_crimes_1996                    5369 non-null int64\n",
      "dtypes: float64(8), int64(18), object(10)\n",
      "memory usage: 1.5+ MB\n"
     ]
    }
   ],
   "source": [
    "df.info() #donner les infos de notre data frame"
   ]
  },
  {
   "cell_type": "code",
   "execution_count": 22,
   "metadata": {},
   "outputs": [],
   "source": [
    "# fonction de transformation de colonnes categorique en numérique\n",
    "\n",
    "from sklearn.preprocessing import LabelEncoder\n",
    "\n",
    "def clean_data_set(data_set):\n",
    "\tfor column in data_set.columns:\n",
    "\t\tif data_set[column].dtype == type(object):\n",
    "\t\t\tle = LabelEncoder()\n",
    "\t\t\tdata_set[column] = le.fit_transform(data_set[column])\n",
    "\n",
    "\treturn data_set"
   ]
  },
  {
   "cell_type": "code",
   "execution_count": 23,
   "metadata": {},
   "outputs": [],
   "source": [
    "df2 = clean_data_set(df)"
   ]
  },
  {
   "cell_type": "code",
   "execution_count": 24,
   "metadata": {},
   "outputs": [
    {
     "name": "stdout",
     "output_type": "stream",
     "text": [
      "<class 'pandas.core.frame.DataFrame'>\n",
      "RangeIndex: 5369 entries, 0 to 5368\n",
      "Data columns (total 36 columns):\n",
      "Unnamed: 0                        5369 non-null int64\n",
      "client_id                         5369 non-null int64\n",
      "Genre                             5369 non-null int64\n",
      "Age                               5369 non-null int64\n",
      "birth_number                      5369 non-null int64\n",
      "district_id                       5369 non-null int64\n",
      "disp_id                           5369 non-null int64\n",
      "account_id                        5369 non-null int64\n",
      "type_client_disp                  5369 non-null int64\n",
      "card_id                           5369 non-null float64\n",
      "type_card                         5369 non-null int64\n",
      "issued                            5369 non-null int64\n",
      "district_id_account               5369 non-null int64\n",
      "frequency                         5369 non-null int64\n",
      "date                              5369 non-null int64\n",
      "loan_id                           5369 non-null float64\n",
      "date_loan                         5369 non-null float64\n",
      "amount                            5369 non-null float64\n",
      "duration                          5369 non-null float64\n",
      "payments                          5369 non-null float64\n",
      "status                            5369 non-null int64\n",
      "district_name                     5369 non-null int64\n",
      "district_region                   5369 non-null int64\n",
      "nb_habitants                      5369 non-null int64\n",
      "nb_mun_hab_499                    5369 non-null int64\n",
      "nb_mun_hab_500_1999               5369 non-null int64\n",
      "nb_mun_hab_2000_9999              5369 non-null int64\n",
      "nb_mun_hab_10000                  5369 non-null int64\n",
      "nb_villes                         5369 non-null int64\n",
      "ratio_hab_urbain                  5369 non-null float64\n",
      "salaire_moyen                     5369 non-null int64\n",
      "chomage_1995                      5369 non-null int64\n",
      "chomage_1996                      5369 non-null float64\n",
      "nb_entrepreneurs_pour_1000_hab    5369 non-null int64\n",
      "nb_crimes_1995                    5369 non-null int64\n",
      "nb_crimes_1996                    5369 non-null int64\n",
      "dtypes: float64(8), int64(28)\n",
      "memory usage: 1.5 MB\n"
     ]
    }
   ],
   "source": [
    "df2.info()"
   ]
  },
  {
   "cell_type": "code",
   "execution_count": 25,
   "metadata": {},
   "outputs": [
    {
     "data": {
      "text/plain": [
       "Index(['Unnamed: 0', 'client_id', 'Genre', 'Age', 'birth_number',\n",
       "       'district_id', 'disp_id', 'account_id', 'type_client_disp', 'card_id',\n",
       "       'type_card', 'issued', 'district_id_account', 'frequency', 'date',\n",
       "       'loan_id', 'date_loan', 'amount', 'duration', 'payments', 'status',\n",
       "       'district_name', 'district_region', 'nb_habitants', 'nb_mun_hab_499',\n",
       "       'nb_mun_hab_500_1999', 'nb_mun_hab_2000_9999', 'nb_mun_hab_10000',\n",
       "       'nb_villes', 'ratio_hab_urbain', 'salaire_moyen', 'chomage_1995',\n",
       "       'chomage_1996', 'nb_entrepreneurs_pour_1000_hab', 'nb_crimes_1995',\n",
       "       'nb_crimes_1996'],\n",
       "      dtype='object')"
      ]
     },
     "execution_count": 25,
     "metadata": {},
     "output_type": "execute_result"
    }
   ],
   "source": [
    "df2.columns # citer les colonnes"
   ]
  },
  {
   "cell_type": "markdown",
   "metadata": {},
   "source": [
    "## 4. définir les attributs utilisés\n",
    "Dans cette étape nous déterminons les attributs choisis pour l'entrainement et nous définissons l'attribut \"classe\" de notre benchmark"
   ]
  },
  {
   "cell_type": "code",
   "execution_count": 26,
   "metadata": {},
   "outputs": [],
   "source": [
    "df_features = df2[['Unnamed: 0', 'client_id', 'Genre', 'Age',\n",
    "       'birth_number', 'district_id', 'disp_id', 'account_id',\n",
    "       'type_client_disp', 'card_id', 'type_card', 'issued',\n",
    "       'district_id_account', 'frequency', 'date', 'loan_id', 'date_loan',\n",
    "       'amount', 'duration', 'payments', #'status', \n",
    "       'district_name','district_region', 'nb_habitants', 'nb_mun_hab_499',\n",
    "       'nb_mun_hab_500_1999', 'nb_mun_hab_2000_9999', 'nb_mun_hab_10000',\n",
    "       'nb_villes', 'ratio_hab_urbain', 'salaire_moyen', 'chomage_1995',\n",
    "       'chomage_1996', 'nb_entrepreneurs_pour_1000_hab', 'nb_crimes_1995',\n",
    "       'nb_crimes_1996'\n",
    "                 ]]"
   ]
  },
  {
   "cell_type": "code",
   "execution_count": 27,
   "metadata": {},
   "outputs": [],
   "source": [
    "# définir l'attribut classe\n",
    "df_labels = df2['status']"
   ]
  },
  {
   "cell_type": "markdown",
   "metadata": {},
   "source": [
    "Si on veut schématiser la distribution de nos classes, il suffit de faire appel à la libraire seaborn, en suite définir l'attribut concerné "
   ]
  },
  {
   "cell_type": "code",
   "execution_count": 28,
   "metadata": {},
   "outputs": [
    {
     "data": {
      "text/plain": [
       "<matplotlib.axes._subplots.AxesSubplot at 0x7fa47ab03470>"
      ]
     },
     "execution_count": 28,
     "metadata": {},
     "output_type": "execute_result"
    },
    {
     "data": {
      "image/png": "[encoded data removed]",
      "text/plain": [
       "<Figure size 432x288 with 1 Axes>"
      ]
     },
     "metadata": {},
     "output_type": "display_data"
    }
   ],
   "source": [
    "import seaborn as sns\n",
    "# schématiser la distribution des classes\n",
    "sns.countplot(df2['status'])"
   ]
  },
  {
   "cell_type": "code",
   "execution_count": null,
   "metadata": {},
   "outputs": [],
   "source": []
  },
  {
   "cell_type": "code",
   "execution_count": null,
   "metadata": {},
   "outputs": [],
   "source": []
  },
  {
   "cell_type": "code",
   "execution_count": 50,
   "metadata": {},
   "outputs": [],
   "source": []
  },
  {
   "cell_type": "code",
   "execution_count": null,
   "metadata": {},
   "outputs": [],
   "source": []
  },
  {
   "cell_type": "markdown",
   "metadata": {},
   "source": [
    "## 5. Diviser le dataset en données d'entrainement et données de teste\n",
    "Ceci est réalisable avec sklearn qui permet de prendre aléatoirement des données de teste à partir du benchmark et laisser le reste pour l'apprentissage.\n",
    "La fonction train_test_split(param1,param2,param3,param4) prends 4 paramétres:\n",
    "le premier dédié à l'ensemble d'entrainement, le deuxième à l'ensemble de teste, le troisième c'est le paramètre du % de l'ensemble de test (généralement entre 15 et 40%), \n",
    "\n",
    "le 4 ème paramétre (facultatif) pour spécifier quel type de fonction random utiliser:\n",
    "si vous utilisez random_state = some_number, vous pouvez garantir que la sortie de Run 1 sera égale à la sortie de Run 2, c'est-à-dire que votre split sera toujours le même. Peu importe ce que le nombre réel random_state est 42, 0, 21, ... L'important est que chaque fois que vous utilisez 42, vous obtiendrez toujours la même sortie la première fois que vous faites la division. Ceci est utile si vous voulez des résultats reproductibles, par exemple dans la documentation, afin que tout le monde puisse toujours voir les mêmes nombres lors de l'exécution des exemples.\n",
    "\n",
    "Cette fonction retourne 4 sorties: \n",
    "La 1ere est le sous-ensembles aléatoires d'entrainement \n",
    "La 2éme est le vecteur de leurs labels (leurs classes).\n",
    "La 3ème est le sous-ensemble aléatoire pour le teste.\n",
    "La 4ème est le vecteur de leurs labels (leurs classes).\n"
   ]
  },
  {
   "cell_type": "code",
   "execution_count": 29,
   "metadata": {},
   "outputs": [],
   "source": [
    "from sklearn.model_selection import train_test_split\n",
    "#decouper le data set en 30% pour test et 70% pour train\n",
    "X_train, X_test, y_train, y_test = train_test_split(df_features, df_labels, test_size=0.3, random_state=42)"
   ]
  },
  {
   "cell_type": "markdown",
   "metadata": {},
   "source": [
    ".shape permet de savoir la dimension d'un ensemble.\n",
    "Par exemple ici l'ensemble d'entrainement est composé de 105000 lignes et 9 colonnes. "
   ]
  },
  {
   "cell_type": "code",
   "execution_count": 30,
   "metadata": {},
   "outputs": [
    {
     "name": "stdout",
     "output_type": "stream",
     "text": [
      "x_train shape: (4134, 35)\n",
      "x_test shape: (1235, 35)\n",
      "y_train shape: (4134,)\n",
      "y_test shape: (1235,)\n"
     ]
    }
   ],
   "source": [
    "print('x_train shape:', X_train.shape) # .shape permet de voir la\n",
    "print('x_test shape:', X_test.shape)\n",
    "print('y_train shape:', y_train.shape)\n",
    "print('y_test shape:', y_test.shape)"
   ]
  },
  {
   "cell_type": "code",
   "execution_count": 53,
   "metadata": {},
   "outputs": [
    {
     "data": {
      "text/plain": [
       "4295"
      ]
     },
     "execution_count": 53,
     "metadata": {},
     "output_type": "execute_result"
    }
   ],
   "source": [
    "X_train.shape[0]\n",
    "\n",
    "\n"
   ]
  },
  {
   "cell_type": "code",
   "execution_count": 54,
   "metadata": {},
   "outputs": [
    {
     "data": {
      "text/plain": [
       "4295"
      ]
     },
     "execution_count": 54,
     "metadata": {},
     "output_type": "execute_result"
    }
   ],
   "source": [
    "y_train.shape[0]"
   ]
  },
  {
   "cell_type": "markdown",
   "metadata": {},
   "source": [
    "## 6. Appliquer les Algorithmes de la fouille de données \n",
    "### sklearn : \n",
    "Contient la plus part des algorithmes de data mining , ici par exemple on fait appel aux algorithmes Naive Bayes , Support Vector Machines, et au KNN (algorithme des k plus proches voisins) \n"
   ]
  },
  {
   "cell_type": "code",
   "execution_count": 64,
   "metadata": {},
   "outputs": [],
   "source": [
    "########## DATA Mining Approaches"
   ]
  },
  {
   "cell_type": "code",
   "execution_count": null,
   "metadata": {},
   "outputs": [],
   "source": []
  },
  {
   "cell_type": "code",
   "execution_count": null,
   "metadata": {},
   "outputs": [],
   "source": []
  },
  {
   "cell_type": "code",
   "execution_count": 34,
   "metadata": {},
   "outputs": [],
   "source": [
    "from sklearn.naive_bayes import BernoulliNB, GaussianNB, MultinomialNB\n",
    "from sklearn.metrics import confusion_matrix,accuracy_score\n",
    "#import matplotlib.pyplot as plt \n",
    "#import itertools    #pour dessiner la matrice de confusion"
   ]
  },
  {
   "cell_type": "code",
   "execution_count": null,
   "metadata": {},
   "outputs": [],
   "source": []
  },
  {
   "cell_type": "code",
   "execution_count": 35,
   "metadata": {},
   "outputs": [
    {
     "name": "stdout",
     "output_type": "stream",
     "text": [
      "time =  0.007493000000000194\n",
      "Bernoulli accuracy score\n",
      "0.9295546558704454\n"
     ]
    }
   ],
   "source": [
    "#1 Bernouli Naive Bayes\n",
    "import time\n",
    "bnb= BernoulliNB()\n",
    "tps1 = time.clock()\n",
    "#fitting\n",
    "#bnb.fit(X_train, y_train.values.ravel())\n",
    "bnb.fit(X_train, y_train)\n",
    "\n",
    "\n",
    "#y = ravel(a) : If a is a matrix, y is a 1-D ndarray, otherwise y is an array of the same subtype as a. \n",
    "#The shape of the returned array is (a.size,). \n",
    "#Matrices are special cased for backward compatibility.\n",
    "\n",
    "ypredBnb = bnb.predict(X_test)\n",
    "tps2 = time.clock() \n",
    "ts = tps2 - tps1\n",
    "print(\"time = \",ts)\n",
    "print ('Bernoulli accuracy score')\n",
    "print (accuracy_score(y_test, ypredBnb))"
   ]
  },
  {
   "cell_type": "code",
   "execution_count": 37,
   "metadata": {},
   "outputs": [],
   "source": [
    "#3 SVMM\n",
    "from sklearn.svm import LinearSVC, NuSVC, SVC"
   ]
  },
  {
   "cell_type": "code",
   "execution_count": 38,
   "metadata": {},
   "outputs": [
    {
     "name": "stdout",
     "output_type": "stream",
     "text": [
      "time = 0.5840170000000002\n",
      "Linear Svm accuracy score\n",
      "0.9368421052631579\n"
     ]
    }
   ],
   "source": [
    "lsvm= LinearSVC()\n",
    "\n",
    "tp1=time.clock()\n",
    "#fitting\n",
    "lsvm.fit(X_train, y_train.values.ravel())\n",
    "#ypred\n",
    "ypredLsvm = lsvm.predict(X_test)\n",
    "tp2=time.clock()\n",
    "tp=tp2-tp1\n",
    "print(\"time =\" , tp)\n",
    "print ('Linear Svm accuracy score')\n",
    "print (accuracy_score(y_test, ypredLsvm))"
   ]
  },
  {
   "cell_type": "code",
   "execution_count": 39,
   "metadata": {},
   "outputs": [],
   "source": [
    "# 4 KNN Uniform\n",
    "from sklearn.neighbors import KNeighborsClassifier"
   ]
  },
  {
   "cell_type": "code",
   "execution_count": 40,
   "metadata": {},
   "outputs": [
    {
     "name": "stdout",
     "output_type": "stream",
     "text": [
      "time = 0.07070699999999874\n",
      "KNN Uniform accuracy score\n",
      "0.9506072874493927\n"
     ]
    }
   ],
   "source": [
    "#UNIFORM KNN\n",
    "knn_uni = KNeighborsClassifier(n_neighbors=13, weights = 'uniform')\n",
    "#fitting\n",
    "tt1=time.clock()\n",
    "knn_uni.fit(X_train, y_train.values.ravel())\n",
    "#ypred\n",
    "ypred_knn_uni = knn_uni.predict(X_test)\n",
    "tt2=time.clock()\n",
    "tt=tt2 - tt1\n",
    "print(\"time =\",tt )\n",
    "print ('KNN Uniform accuracy score')\n",
    "print (accuracy_score(y_test, ypred_knn_uni))"
   ]
  },
  {
   "cell_type": "code",
   "execution_count": 41,
   "metadata": {},
   "outputs": [
    {
     "name": "stdout",
     "output_type": "stream",
     "text": [
      "time = 0.06992699999999985\n",
      "Distant accuracy score\n",
      "0.9546558704453442\n"
     ]
    }
   ],
   "source": [
    "# 5 KNN Distant\n",
    "knn_dist = KNeighborsClassifier(n_neighbors=13, weights = 'distance')\n",
    "#fitting\n",
    "tt1 = time.clock()\n",
    "knn_dist.fit(X_train, y_train.values.ravel())\n",
    "#ypred\n",
    "ypred_knn_dist = knn_dist.predict(X_test)\n",
    "tt2=time.clock()\n",
    "tt=tt2 - tt1\n",
    "print(\"time =\",tt )\n",
    "print ('Distant accuracy score')\n",
    "print (accuracy_score(y_test, ypred_knn_dist))"
   ]
  }
 ],
 "metadata": {
  "kernelspec": {
   "display_name": "Python 3",
   "language": "python",
   "name": "python3"
  },
  "language_info": {
   "codemirror_mode": {
    "name": "ipython",
    "version": 3
   },
   "file_extension": ".py",
   "mimetype": "text/x-python",
   "name": "python",
   "nbconvert_exporter": "python",
   "pygments_lexer": "ipython3",
   "version": "3.5.2"
  }
 },
 "nbformat": 4,
 "nbformat_minor": 2
}
